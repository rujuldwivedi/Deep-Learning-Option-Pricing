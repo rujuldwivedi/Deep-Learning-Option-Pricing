{
  "cells": [
    {
      "cell_type": "markdown",
      "metadata": {
        "colab_type": "text",
        "id": "view-in-github"
      },
      "source": [
        "<a href=\"https://colab.research.google.com/github/ashish1610dhiman/pinn_option_pricing/blob/main/add_spot_prices.ipynb\" target=\"_parent\"><img src=\"https://colab.research.google.com/assets/colab-badge.svg\" alt=\"Open In Colab\"/></a>"
      ]
    },
    {
      "cell_type": "code",
      "execution_count": 1,
      "metadata": {
        "colab": {
          "base_uri": "https://localhost:8080/"
        },
        "id": "gwcdF71GMgRt",
        "outputId": "47696575-878e-4c10-d7dd-7946bf4c55bc"
      },
      "outputs": [
        {
          "name": "stdout",
          "output_type": "stream",
          "text": [
            "Collecting yfinance\n",
            "  Downloading yfinance-0.2.41-py2.py3-none-any.whl.metadata (11 kB)\n",
            "Requirement already satisfied: pandas>=1.3.0 in c:\\users\\rujul\\appdata\\local\\programs\\pythoncodingpack\\lib\\site-packages (from yfinance) (1.4.0)\n",
            "Requirement already satisfied: numpy>=1.16.5 in c:\\users\\rujul\\appdata\\local\\programs\\pythoncodingpack\\lib\\site-packages (from yfinance) (1.23.0)\n",
            "Requirement already satisfied: requests>=2.31 in c:\\users\\rujul\\appdata\\local\\programs\\pythoncodingpack\\lib\\site-packages (from yfinance) (2.32.3)\n",
            "Collecting multitasking>=0.0.7 (from yfinance)\n",
            "  Downloading multitasking-0.0.11-py3-none-any.whl.metadata (5.5 kB)\n",
            "Requirement already satisfied: lxml>=4.9.1 in c:\\users\\rujul\\appdata\\local\\programs\\pythoncodingpack\\lib\\site-packages (from yfinance) (5.2.2)\n",
            "Requirement already satisfied: platformdirs>=2.0.0 in c:\\users\\rujul\\appdata\\local\\programs\\pythoncodingpack\\lib\\site-packages (from yfinance) (4.1.0)\n",
            "Collecting pytz>=2022.5 (from yfinance)\n",
            "  Using cached pytz-2024.1-py2.py3-none-any.whl.metadata (22 kB)\n",
            "Collecting frozendict>=2.3.4 (from yfinance)\n",
            "  Downloading frozendict-2.4.4-cp38-cp38-win_amd64.whl.metadata (23 kB)\n",
            "Collecting peewee>=3.16.2 (from yfinance)\n",
            "  Downloading peewee-3.17.6.tar.gz (3.0 MB)\n",
            "     ---------------------------------------- 0.0/3.0 MB ? eta -:--:--\n",
            "     ---------- ----------------------------- 0.8/3.0 MB 6.6 MB/s eta 0:00:01\n",
            "     ---------------------------------------- 3.0/3.0 MB 8.6 MB/s eta 0:00:00\n",
            "  Installing build dependencies: started\n",
            "  Installing build dependencies: finished with status 'done'\n",
            "  Getting requirements to build wheel: started\n",
            "  Getting requirements to build wheel: finished with status 'done'\n",
            "  Preparing metadata (pyproject.toml): started\n",
            "  Preparing metadata (pyproject.toml): finished with status 'done'\n",
            "Requirement already satisfied: beautifulsoup4>=4.11.1 in c:\\users\\rujul\\appdata\\local\\programs\\pythoncodingpack\\lib\\site-packages (from yfinance) (4.12.2)\n",
            "Collecting html5lib>=1.1 (from yfinance)\n",
            "  Using cached html5lib-1.1-py2.py3-none-any.whl.metadata (16 kB)\n",
            "Requirement already satisfied: soupsieve>1.2 in c:\\users\\rujul\\appdata\\local\\programs\\pythoncodingpack\\lib\\site-packages (from beautifulsoup4>=4.11.1->yfinance) (2.5)\n",
            "Requirement already satisfied: six>=1.9 in c:\\users\\rujul\\appdata\\local\\programs\\pythoncodingpack\\lib\\site-packages (from html5lib>=1.1->yfinance) (1.15.0)\n",
            "Requirement already satisfied: webencodings in c:\\users\\rujul\\appdata\\local\\programs\\pythoncodingpack\\lib\\site-packages (from html5lib>=1.1->yfinance) (0.5.1)\n",
            "Requirement already satisfied: python-dateutil>=2.8.1 in c:\\users\\rujul\\appdata\\local\\programs\\pythoncodingpack\\lib\\site-packages (from pandas>=1.3.0->yfinance) (2.8.2)\n",
            "Requirement already satisfied: charset-normalizer<4,>=2 in c:\\users\\rujul\\appdata\\local\\programs\\pythoncodingpack\\lib\\site-packages (from requests>=2.31->yfinance) (3.3.2)\n",
            "Requirement already satisfied: idna<4,>=2.5 in c:\\users\\rujul\\appdata\\local\\programs\\pythoncodingpack\\lib\\site-packages (from requests>=2.31->yfinance) (3.7)\n",
            "Requirement already satisfied: urllib3<3,>=1.21.1 in c:\\users\\rujul\\appdata\\local\\programs\\pythoncodingpack\\lib\\site-packages (from requests>=2.31->yfinance) (1.26.19)\n",
            "Requirement already satisfied: certifi>=2017.4.17 in c:\\users\\rujul\\appdata\\local\\programs\\pythoncodingpack\\lib\\site-packages (from requests>=2.31->yfinance) (2024.7.4)\n",
            "Downloading yfinance-0.2.41-py2.py3-none-any.whl (73 kB)\n",
            "Downloading frozendict-2.4.4-cp38-cp38-win_amd64.whl (37 kB)\n",
            "Using cached html5lib-1.1-py2.py3-none-any.whl (112 kB)\n",
            "Downloading multitasking-0.0.11-py3-none-any.whl (8.5 kB)\n",
            "Using cached pytz-2024.1-py2.py3-none-any.whl (505 kB)\n",
            "Building wheels for collected packages: peewee\n",
            "  Building wheel for peewee (pyproject.toml): started\n",
            "  Building wheel for peewee (pyproject.toml): finished with status 'done'\n",
            "  Created wheel for peewee: filename=peewee-3.17.6-py3-none-any.whl size=138938 sha256=14d75d8b5c1fe25e7e12d9ed5937d1f1a6902769de14c263ec155bd2c7932599\n",
            "  Stored in directory: c:\\users\\rujul\\appdata\\local\\pip\\cache\\wheels\\3a\\cd\\3a\\abf2568bf80fd95a4be8f7954d9e4eefc190c1233516a0a029\n",
            "Successfully built peewee\n",
            "Installing collected packages: pytz, peewee, multitasking, html5lib, frozendict, yfinance\n",
            "  Attempting uninstall: pytz\n",
            "    Found existing installation: pytz 2020.1\n",
            "    Uninstalling pytz-2020.1:\n",
            "      Successfully uninstalled pytz-2020.1\n",
            "Successfully installed frozendict-2.4.4 html5lib-1.1 multitasking-0.0.11 peewee-3.17.6 pytz-2024.1 yfinance-0.2.41\n",
            "Note: you may need to restart the kernel to use updated packages.\n"
          ]
        },
        {
          "name": "stderr",
          "output_type": "stream",
          "text": [
            "WARNING: Error parsing dependencies of uvicorn: .* suffix can only be used with `==` or `!=` operators\n",
            "    python-dotenv (>=0.13.*) ; extra == 'standard'\n",
            "                   ~~~~~~~^\n"
          ]
        }
      ],
      "source": [
        "# pip install yfinance"
      ]
    },
    {
      "cell_type": "code",
      "execution_count": 2,
      "metadata": {
        "id": "DxAiLs61Mkuk"
      },
      "outputs": [],
      "source": [
        "import pandas as pd\n",
        "import numpy as np\n",
        "import datetime\n",
        "import yfinance as yf\n",
        "import matplotlib.pyplot as plt"
      ]
    },
    {
      "cell_type": "code",
      "execution_count": 3,
      "metadata": {
        "colab": {
          "base_uri": "https://localhost:8080/",
          "height": 255
        },
        "id": "dX_rHCtAMkyE",
        "outputId": "36f2e115-d13e-42b6-ce99-842e9228d598"
      },
      "outputs": [
        {
          "name": "stderr",
          "output_type": "stream",
          "text": [
            "[*********************100%%**********************]  1 of 1 completed\n"
          ]
        },
        {
          "data": {
            "text/html": [
              "<div>\n",
              "<style scoped>\n",
              "    .dataframe tbody tr th:only-of-type {\n",
              "        vertical-align: middle;\n",
              "    }\n",
              "\n",
              "    .dataframe tbody tr th {\n",
              "        vertical-align: top;\n",
              "    }\n",
              "\n",
              "    .dataframe thead th {\n",
              "        text-align: right;\n",
              "    }\n",
              "</style>\n",
              "<table border=\"1\" class=\"dataframe\">\n",
              "  <thead>\n",
              "    <tr style=\"text-align: right;\">\n",
              "      <th></th>\n",
              "      <th>Open</th>\n",
              "      <th>High</th>\n",
              "      <th>Low</th>\n",
              "      <th>Close</th>\n",
              "      <th>Adj Close</th>\n",
              "      <th>Volume</th>\n",
              "    </tr>\n",
              "    <tr>\n",
              "      <th>Date</th>\n",
              "      <th></th>\n",
              "      <th></th>\n",
              "      <th></th>\n",
              "      <th></th>\n",
              "      <th></th>\n",
              "      <th></th>\n",
              "    </tr>\n",
              "  </thead>\n",
              "  <tbody>\n",
              "    <tr>\n",
              "      <th>2021-06-14</th>\n",
              "      <td>14128.200195</td>\n",
              "      <td>14128.200195</td>\n",
              "      <td>14128.200195</td>\n",
              "      <td>14128.200195</td>\n",
              "      <td>14128.200195</td>\n",
              "      <td>0</td>\n",
              "    </tr>\n",
              "    <tr>\n",
              "      <th>2021-06-15</th>\n",
              "      <td>14030.410156</td>\n",
              "      <td>14030.410156</td>\n",
              "      <td>14030.410156</td>\n",
              "      <td>14030.410156</td>\n",
              "      <td>14030.410156</td>\n",
              "      <td>0</td>\n",
              "    </tr>\n",
              "    <tr>\n",
              "      <th>2021-06-16</th>\n",
              "      <td>13983.009766</td>\n",
              "      <td>13983.009766</td>\n",
              "      <td>13983.009766</td>\n",
              "      <td>13983.009766</td>\n",
              "      <td>13983.009766</td>\n",
              "      <td>0</td>\n",
              "    </tr>\n",
              "    <tr>\n",
              "      <th>2021-06-17</th>\n",
              "      <td>14163.809570</td>\n",
              "      <td>14163.809570</td>\n",
              "      <td>14163.809570</td>\n",
              "      <td>14163.809570</td>\n",
              "      <td>14163.809570</td>\n",
              "      <td>0</td>\n",
              "    </tr>\n",
              "    <tr>\n",
              "      <th>2021-06-18</th>\n",
              "      <td>14049.580078</td>\n",
              "      <td>14049.580078</td>\n",
              "      <td>14049.580078</td>\n",
              "      <td>14049.580078</td>\n",
              "      <td>14049.580078</td>\n",
              "      <td>0</td>\n",
              "    </tr>\n",
              "  </tbody>\n",
              "</table>\n",
              "</div>"
            ],
            "text/plain": [
              "                    Open          High           Low         Close  \\\n",
              "Date                                                                 \n",
              "2021-06-14  14128.200195  14128.200195  14128.200195  14128.200195   \n",
              "2021-06-15  14030.410156  14030.410156  14030.410156  14030.410156   \n",
              "2021-06-16  13983.009766  13983.009766  13983.009766  13983.009766   \n",
              "2021-06-17  14163.809570  14163.809570  14163.809570  14163.809570   \n",
              "2021-06-18  14049.580078  14049.580078  14049.580078  14049.580078   \n",
              "\n",
              "               Adj Close  Volume  \n",
              "Date                              \n",
              "2021-06-14  14128.200195       0  \n",
              "2021-06-15  14030.410156       0  \n",
              "2021-06-16  13983.009766       0  \n",
              "2021-06-17  14163.809570       0  \n",
              "2021-06-18  14049.580078       0  "
            ]
          },
          "execution_count": 3,
          "metadata": {},
          "output_type": "execute_result"
        }
      ],
      "source": [
        "ndx_data = yf.download(\"NDX\", start='2021-06-14', end='2022-06-28')\n",
        "ndx_data.head()"
      ]
    },
    {
      "cell_type": "code",
      "execution_count": 5,
      "metadata": {
        "colab": {
          "base_uri": "https://localhost:8080/",
          "height": 446
        },
        "id": "IcjtqQqaMk2v",
        "outputId": "babe9e75-6400-4d9a-d7a5-e6643204d466"
      },
      "outputs": [
        {
          "data": {
            "text/html": [
              "<div>\n",
              "<style scoped>\n",
              "    .dataframe tbody tr th:only-of-type {\n",
              "        vertical-align: middle;\n",
              "    }\n",
              "\n",
              "    .dataframe tbody tr th {\n",
              "        vertical-align: top;\n",
              "    }\n",
              "\n",
              "    .dataframe thead th {\n",
              "        text-align: right;\n",
              "    }\n",
              "</style>\n",
              "<table border=\"1\" class=\"dataframe\">\n",
              "  <thead>\n",
              "    <tr style=\"text-align: right;\">\n",
              "      <th></th>\n",
              "      <th>Date</th>\n",
              "      <th>Open</th>\n",
              "      <th>High</th>\n",
              "      <th>Low</th>\n",
              "      <th>Close</th>\n",
              "      <th>Adj Close</th>\n",
              "      <th>Volume</th>\n",
              "    </tr>\n",
              "  </thead>\n",
              "  <tbody>\n",
              "    <tr>\n",
              "      <th>0</th>\n",
              "      <td>2023-08-14</td>\n",
              "      <td>14988.419922</td>\n",
              "      <td>15206.259766</td>\n",
              "      <td>14972.009766</td>\n",
              "      <td>15205.589844</td>\n",
              "      <td>15205.589844</td>\n",
              "      <td>4272020000</td>\n",
              "    </tr>\n",
              "    <tr>\n",
              "      <th>1</th>\n",
              "      <td>2023-08-15</td>\n",
              "      <td>15172.080078</td>\n",
              "      <td>15192.879883</td>\n",
              "      <td>15014.360352</td>\n",
              "      <td>15037.650391</td>\n",
              "      <td>15037.650391</td>\n",
              "      <td>4473320000</td>\n",
              "    </tr>\n",
              "    <tr>\n",
              "      <th>2</th>\n",
              "      <td>2023-08-16</td>\n",
              "      <td>15021.629883</td>\n",
              "      <td>15077.049805</td>\n",
              "      <td>14874.019531</td>\n",
              "      <td>14876.469727</td>\n",
              "      <td>14876.469727</td>\n",
              "      <td>6243760000</td>\n",
              "    </tr>\n",
              "    <tr>\n",
              "      <th>3</th>\n",
              "      <td>2023-08-17</td>\n",
              "      <td>14943.339844</td>\n",
              "      <td>14949.580078</td>\n",
              "      <td>14698.290039</td>\n",
              "      <td>14715.809570</td>\n",
              "      <td>14715.809570</td>\n",
              "      <td>5280180000</td>\n",
              "    </tr>\n",
              "    <tr>\n",
              "      <th>4</th>\n",
              "      <td>2023-08-18</td>\n",
              "      <td>14589.709961</td>\n",
              "      <td>14744.570313</td>\n",
              "      <td>14557.830078</td>\n",
              "      <td>14694.839844</td>\n",
              "      <td>14694.839844</td>\n",
              "      <td>4801910000</td>\n",
              "    </tr>\n",
              "  </tbody>\n",
              "</table>\n",
              "</div>"
            ],
            "text/plain": [
              "         Date          Open          High           Low         Close  \\\n",
              "0  2023-08-14  14988.419922  15206.259766  14972.009766  15205.589844   \n",
              "1  2023-08-15  15172.080078  15192.879883  15014.360352  15037.650391   \n",
              "2  2023-08-16  15021.629883  15077.049805  14874.019531  14876.469727   \n",
              "3  2023-08-17  14943.339844  14949.580078  14698.290039  14715.809570   \n",
              "4  2023-08-18  14589.709961  14744.570313  14557.830078  14694.839844   \n",
              "\n",
              "      Adj Close      Volume  \n",
              "0  15205.589844  4272020000  \n",
              "1  15037.650391  4473320000  \n",
              "2  14876.469727  6243760000  \n",
              "3  14715.809570  5280180000  \n",
              "4  14694.839844  4801910000  "
            ]
          },
          "execution_count": 5,
          "metadata": {},
          "output_type": "execute_result"
        }
      ],
      "source": [
        "ndx_call_data = pd.read_csv(\"df_eur_call_NDX.csv\")\n",
        "ndx_call_data.head()"
      ]
    },
    {
      "cell_type": "code",
      "execution_count": 6,
      "metadata": {
        "colab": {
          "base_uri": "https://localhost:8080/"
        },
        "id": "Zy41ltXkQWd5",
        "outputId": "562d652f-73f0-4ee3-c976-28a4c80a229c"
      },
      "outputs": [
        {
          "data": {
            "text/plain": [
              "Date         datetime64[ns]\n",
              "Open                float64\n",
              "High                float64\n",
              "Low                 float64\n",
              "Close               float64\n",
              "Adj Close           float64\n",
              "Volume                int64\n",
              "dtype: object"
            ]
          },
          "execution_count": 6,
          "metadata": {},
          "output_type": "execute_result"
        }
      ],
      "source": [
        "ndx_data.reset_index().dtypes"
      ]
    },
    {
      "cell_type": "code",
      "execution_count": 8,
      "metadata": {
        "id": "498MTrFWQbam"
      },
      "outputs": [],
      "source": [
        "ndx_call_data[\"Date\"]=pd.to_datetime(ndx_call_data[\"Date\"])"
      ]
    },
    {
      "cell_type": "code",
      "execution_count": 12,
      "metadata": {
        "colab": {
          "base_uri": "https://localhost:8080/",
          "height": 360
        },
        "id": "8POX04BhMk6W",
        "outputId": "18531270-268c-4897-a582-9c1e5570d01b"
      },
      "outputs": [
        {
          "data": {
            "text/html": [
              "<div>\n",
              "<style scoped>\n",
              "    .dataframe tbody tr th:only-of-type {\n",
              "        vertical-align: middle;\n",
              "    }\n",
              "\n",
              "    .dataframe tbody tr th {\n",
              "        vertical-align: top;\n",
              "    }\n",
              "\n",
              "    .dataframe thead th {\n",
              "        text-align: right;\n",
              "    }\n",
              "</style>\n",
              "<table border=\"1\" class=\"dataframe\">\n",
              "  <thead>\n",
              "    <tr style=\"text-align: right;\">\n",
              "      <th></th>\n",
              "      <th>Date</th>\n",
              "      <th>Open</th>\n",
              "      <th>High</th>\n",
              "      <th>Low</th>\n",
              "      <th>Close</th>\n",
              "      <th>Adj Close</th>\n",
              "      <th>Volume</th>\n",
              "      <th>Open_NDX</th>\n",
              "      <th>High_NDX</th>\n",
              "      <th>Low_NDX</th>\n",
              "      <th>Close_NDX</th>\n",
              "      <th>Adj Close_NDX</th>\n",
              "      <th>Volume_NDX</th>\n",
              "    </tr>\n",
              "  </thead>\n",
              "  <tbody>\n",
              "  </tbody>\n",
              "</table>\n",
              "</div>"
            ],
            "text/plain": [
              "Empty DataFrame\n",
              "Columns: [Date, Open, High, Low, Close, Adj Close, Volume, Open_NDX, High_NDX, Low_NDX, Close_NDX, Adj Close_NDX, Volume_NDX]\n",
              "Index: []"
            ]
          },
          "execution_count": 12,
          "metadata": {},
          "output_type": "execute_result"
        }
      ],
      "source": [
        "ndx_call1 = ndx_call_data.merge(ndx_data.reset_index(),left_on=\"Date\",right_on=\"Date\",suffixes=(\"\",\"_NDX\"))\n",
        "ndx_call1.head()"
      ]
    },
    {
      "cell_type": "code",
      "execution_count": 15,
      "metadata": {
        "colab": {
          "base_uri": "https://localhost:8080/",
          "height": 440
        },
        "id": "I2dY82D7QpI7",
        "outputId": "be9c3def-8316-4549-b6aa-0fc36709ac37"
      },
      "outputs": [
        {
          "data": {
            "text/html": [
              "<div>\n",
              "<style scoped>\n",
              "    .dataframe tbody tr th:only-of-type {\n",
              "        vertical-align: middle;\n",
              "    }\n",
              "\n",
              "    .dataframe tbody tr th {\n",
              "        vertical-align: top;\n",
              "    }\n",
              "\n",
              "    .dataframe thead th {\n",
              "        text-align: right;\n",
              "    }\n",
              "</style>\n",
              "<table border=\"1\" class=\"dataframe\">\n",
              "  <thead>\n",
              "    <tr style=\"text-align: right;\">\n",
              "      <th></th>\n",
              "      <th>Date</th>\n",
              "      <th>Open</th>\n",
              "      <th>High</th>\n",
              "      <th>Low</th>\n",
              "      <th>Close</th>\n",
              "      <th>spot_price</th>\n",
              "      <th>Volume</th>\n",
              "    </tr>\n",
              "  </thead>\n",
              "  <tbody>\n",
              "  </tbody>\n",
              "</table>\n",
              "</div>"
            ],
            "text/plain": [
              "Empty DataFrame\n",
              "Columns: [Date, Open, High, Low, Close, spot_price, Volume]\n",
              "Index: []"
            ]
          },
          "execution_count": 15,
          "metadata": {},
          "output_type": "execute_result"
        }
      ],
      "source": [
        "call_data = ndx_call1[[\"Date\",\"Open\",\"High\",\"Low\",\"Close\",\"Adj Close\",\"Volume\"]]\n",
        "call_data[\"Close\"] = call_data[\"Close\"]/1000\n",
        "call_data[\"Open\"] = (call_data[\"High\"]+call_data[\"Low\"])/2\n",
        "call_data = call_data.rename(columns={\"Adj Close\":\"spot_price\"})\n",
        "call_data.head()"
      ]
    },
    {
      "cell_type": "code",
      "execution_count": 16,
      "metadata": {
        "colab": {
          "base_uri": "https://localhost:8080/"
        },
        "id": "0HBCJeZZYbDd",
        "outputId": "43a8d0d2-0901-4afc-eccc-756b9c587162"
      },
      "outputs": [
        {
          "name": "stderr",
          "output_type": "stream",
          "text": [
            "C:\\Users\\Rujul\\AppData\\Local\\Temp\\ipykernel_11244\\3834201902.py:1: FutureWarning: DataFrame.mean and DataFrame.median with numeric_only=None will include datetime64 and datetime64tz columns in a future version.\n",
            "  call_data.mean()\n"
          ]
        },
        {
          "data": {
            "text/plain": [
              "Open         NaN\n",
              "High         NaN\n",
              "Low          NaN\n",
              "Close        NaN\n",
              "spot_price   NaN\n",
              "Volume       NaN\n",
              "dtype: float64"
            ]
          },
          "execution_count": 16,
          "metadata": {},
          "output_type": "execute_result"
        }
      ],
      "source": [
        "call_data.mean()"
      ]
    },
    {
      "cell_type": "code",
      "execution_count": 19,
      "metadata": {
        "colab": {
          "base_uri": "https://localhost:8080/",
          "height": 490
        },
        "id": "V5soPrPwRlND",
        "outputId": "93d6ce8f-73a0-4dbb-baf0-d09ff8af518a"
      },
      "outputs": [
        {
          "data": {
            "text/plain": [
              "Text(0.5, 1.0, 'NDX Spot Price and European Call price')"
            ]
          },
          "execution_count": 19,
          "metadata": {},
          "output_type": "execute_result"
        },
        {
          "data": {
            "image/png": "[encoded data removed]",
            "text/plain": [
              "<Figure size 640x480 with 2 Axes>"
            ]
          },
          "metadata": {},
          "output_type": "display_data"
        }
      ],
      "source": [
        "fig, ax1 = plt.subplots()\n",
        "# Plot the \"Spot Price\" on the left axis\n",
        "ax1.plot(call_data[\"Date\"], call_data[\"spot_price\"], label=\"Spot Price\", color=\"blue\")\n",
        "ax1.set_xlabel('Time')\n",
        "ax1.set_ylabel('Spot Price', color=\"blue\")\n",
        "ax2 = ax1.twinx()\n",
        "# ax1.legend(\n",
        "# Plot the \"Market Price\" on the right axis\n",
        "ax2.plot(call_data[\"Date\"], call_data[\"Close\"], label=\"Market Price\", color=\"red\")\n",
        "ax2.set_ylabel('Market Price', color=\"red\")\n",
        "plt.title(\"NDX Spot Price and European Call price\")\n",
        "# ax2.legend()"
      ]
    },
    {
      "cell_type": "code",
      "execution_count": 20,
      "metadata": {
        "id": "H--DVtnKS6xj"
      },
      "outputs": [],
      "source": [
        "call_data.to_csv(\"NDX_call_data.csv\")"
      ]
    },
    {
      "cell_type": "code",
      "execution_count": 21,
      "metadata": {
        "colab": {
          "base_uri": "https://localhost:8080/"
        },
        "id": "7TVsn1sWUut1",
        "outputId": "a3550bed-7c04-44a4-c746-d4e1c771540c"
      },
      "outputs": [
        {
          "data": {
            "text/plain": [
              "Date          NaT\n",
              "Open          NaN\n",
              "High          NaN\n",
              "Low           NaN\n",
              "Close         NaN\n",
              "spot_price    NaN\n",
              "Volume        NaN\n",
              "dtype: object"
            ]
          },
          "execution_count": 21,
          "metadata": {},
          "output_type": "execute_result"
        }
      ],
      "source": [
        "call_data.std()"
      ]
    }
  ],
  "metadata": {
    "colab": {
      "authorship_tag": "ABX9TyNR8x3+ZURVJFIktQUkCNTC",
      "include_colab_link": true,
      "provenance": []
    },
    "kernelspec": {
      "display_name": "Python 3",
      "name": "python3"
    },
    "language_info": {
      "codemirror_mode": {
        "name": "ipython",
        "version": 3
      },
      "file_extension": ".py",
      "mimetype": "text/x-python",
      "name": "python",
      "nbconvert_exporter": "python",
      "pygments_lexer": "ipython3",
      "version": "3.8.5"
    }
  },
  "nbformat": 4,
  "nbformat_minor": 0
}
