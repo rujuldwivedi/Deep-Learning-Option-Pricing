{
  "nbformat": 4,
  "nbformat_minor": 0,
  "metadata": {
    "colab": {
      "name": "TF-PINN.ipynb",
      "provenance": [],
      "collapsed_sections": [],
      "include_colab_link": true
    },
    "kernelspec": {
      "name": "python3",
      "display_name": "Python 3"
    },
    "language_info": {
      "name": "python"
    },
    "accelerator": "GPU"
  },
  "cells": [
    {
      "cell_type": "markdown",
      "metadata": {
        "id": "view-in-github",
        "colab_type": "text"
      },
      "source": [
        "<a href=\"https://colab.research.google.com/github/kochlisGit/Physics-Informed-Neural-Network-PINN-/blob/main/TF_PINN.ipynb\" target=\"_parent\"><img src=\"https://colab.research.google.com/assets/colab-badge.svg\" alt=\"Open In Colab\"/></a>"
      ]
    },
    {
      "cell_type": "markdown",
      "source": [
        "**Tensorflow v2** will be used to train a *Physics-Informed Neural Network* (*PINN*) model. The model will be trained to solve the equation $\\frac{dy}{dx} = y$ with $y(0) = 1$ for interval $x \\in [0, 2]$ . We know that the solution of this equation is $y=e^x.$ \n",
        "\n",
        "\n"
      ],
      "metadata": {
        "id": "6izmYP5l1mVG"
      }
    },
    {
      "cell_type": "code",
      "execution_count": null,
      "metadata": {
        "id": "ppOPRMpgzPhO"
      },
      "outputs": [],
      "source": [
        "import tensorflow as tf"
      ]
    },
    {
      "cell_type": "markdown",
      "source": [
        "We are now going to generate some points in the interval $[0, 2]$. This function could also be used to generate rectanges and hyperplanes as well (e.g. `generate_uniform_data(num_domain=100, minval=[0,0], maxval=[1,1])`)"
      ],
      "metadata": {
        "id": "gdf6K5zw3KHx"
      }
    },
    {
      "cell_type": "code",
      "source": [
        "num_domain = 32\n",
        "minval = 0\n",
        "maxval = 2\n",
        "\n",
        "def generate_uniform_data(num_domain, minval, maxval):\n",
        "  data_init = tf.random_uniform_initializer(minval=minval, maxval=maxval, seed=0)\n",
        "  return tf.Variable(data_init(shape=[num_domain, 1]), dtype=tf.float32)\n",
        "\n",
        "x = generate_uniform_data(num_domain, minval, maxval)\n",
        "x"
      ],
      "metadata": {
        "colab": {
          "base_uri": "https://localhost:8080/"
        },
        "id": "kVjafKr208Yv",
        "outputId": "186997c6-729f-46b4-8bc3-933f80b096db"
      },
      "execution_count": null,
      "outputs": [
        {
          "output_type": "execute_result",
          "data": {
            "text/plain": [
              "<tf.Variable 'Variable:0' shape=(32, 1) dtype=float32, numpy=\n",
              "array([[0.42203093],\n",
              "       [1.41202   ],\n",
              "       [1.6001267 ],\n",
              "       [1.5415845 ],\n",
              "       [0.77717733],\n",
              "       [1.7407188 ],\n",
              "       [1.616375  ],\n",
              "       [0.3938818 ],\n",
              "       [1.6985414 ],\n",
              "       [1.0803521 ],\n",
              "       [0.27217007],\n",
              "       [0.22239375],\n",
              "       [1.4941943 ],\n",
              "       [0.39473152],\n",
              "       [0.71548843],\n",
              "       [1.0405965 ],\n",
              "       [0.8522768 ],\n",
              "       [0.42251015],\n",
              "       [0.43519688],\n",
              "       [0.31763887],\n",
              "       [0.3279183 ],\n",
              "       [1.9947593 ],\n",
              "       [0.82617426],\n",
              "       [0.40056705],\n",
              "       [1.4406891 ],\n",
              "       [0.14499807],\n",
              "       [0.56532216],\n",
              "       [0.383291  ],\n",
              "       [0.09421492],\n",
              "       [1.3626337 ],\n",
              "       [0.3398428 ],\n",
              "       [0.82003   ]], dtype=float32)>"
            ]
          },
          "metadata": {},
          "execution_count": 2
        }
      ]
    },
    {
      "cell_type": "markdown",
      "source": [
        "In order to compute the error of our neural network, we are going to have to compute the derivative of $y$ with respect to $x$. The coolest part about neural networks is that this can easily be done via **Back-Propagation**. In Tensorflow, this can be done via the *gradient* method of a *GradientTape*.\n",
        "\n",
        "![Jacobian-matrix-formula.png](data:image/png;base64,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)"
      ],
      "metadata": {
        "id": "fY1nBD7M5577"
      }
    },
    {
      "cell_type": "code",
      "source": [
        "def jacobian(tape, y, x, i=0, j=0):\n",
        "  if y.shape[1] > 1:\n",
        "    y = y[:, i : i + 1]\n",
        "\n",
        "  grads = tape.gradient(y, x)\n",
        "  return grads[:, j : j + 1]\n",
        "\n",
        "def pde(tape, x, y):\n",
        "  dy_x = jacobian(tape, y, x)\n",
        "  return dy_x - y\n",
        "\n",
        "def ic_0(x):\n",
        "  return 1\n",
        "\n",
        "x_ic = tf.constant(0, shape=[1,1])"
      ],
      "metadata": {
        "id": "V-cXhVMN2_CX"
      },
      "execution_count": null,
      "outputs": []
    },
    {
      "cell_type": "markdown",
      "source": [
        "Building the model. Our model will be a Fully Connected Neural Network (FC Net) with `[32, 32]` hidden units and 1 output unit. The output of each hidden unit will be passed through a `tanh` activation. The output layer will not use any activation function."
      ],
      "metadata": {
        "id": "ZS8Cx7bu62uV"
      }
    },
    {
      "cell_type": "code",
      "source": [
        "n_inputs = 1\n",
        "n_outputs = 1\n",
        "activation = 'tanh'\n",
        "\n",
        "model = tf.keras.models.Sequential()\n",
        "model.add(tf.keras.layers.Input((n_inputs,)))\n",
        "model.add(tf.keras.layers.Dense(units=32, activation=activation))\n",
        "model.add(tf.keras.layers.Dense(units=32, activation=activation))\n",
        "model.add(tf.keras.layers.Dense(units=n_outputs))\n",
        "\n",
        "model.summary()"
      ],
      "metadata": {
        "colab": {
          "base_uri": "https://localhost:8080/"
        },
        "id": "NJH3um6_8UnQ",
        "outputId": "c46427c3-aa5b-4128-b80c-b094fb068d83"
      },
      "execution_count": null,
      "outputs": [
        {
          "output_type": "stream",
          "name": "stdout",
          "text": [
            "Model: \"sequential\"\n",
            "_________________________________________________________________\n",
            " Layer (type)                Output Shape              Param #   \n",
            "=================================================================\n",
            " dense (Dense)               (None, 32)                64        \n",
            "                                                                 \n",
            " dense_1 (Dense)             (None, 32)                1056      \n",
            "                                                                 \n",
            " dense_2 (Dense)             (None, 1)                 33        \n",
            "                                                                 \n",
            "=================================================================\n",
            "Total params: 1,153\n",
            "Trainable params: 1,153\n",
            "Non-trainable params: 0\n",
            "_________________________________________________________________\n"
          ]
        }
      ]
    },
    {
      "cell_type": "code",
      "source": [
        "epochs = 5000\n",
        "learning_rate = 0.0005\n",
        "\n",
        "optimizer = tf.keras.optimizers.Adam(learning_rate=learning_rate)\n",
        "\n",
        "for i in range(epochs + 1):\n",
        "  with tf.GradientTape() as tape_model:\n",
        "    with tf.GradientTape() as tape_pde:\n",
        "      y = model(x, training=True)\n",
        "      ic_error = model(x_ic, training=True)[0][0] - ic_0(x_ic)\n",
        "      domain_error = pde(tape_pde, x, y)\n",
        "\n",
        "    domain_mse = mse = tf.math.reduce_mean(tf.math.square(domain_error), axis=0)\n",
        "    ic_mse =  tf.math.square(ic_error)\n",
        "    total_mse = domain_mse + ic_mse\n",
        "\n",
        "    if i % 1000 == 0:\n",
        "      print('Epoch: {}\\t MSE Loss = {}'.format(i, total_mse.numpy()[0]))\n",
        "\n",
        "  model_update_gradients = tape_model.gradient(total_mse, model.trainable_variables)\n",
        "  optimizer.apply_gradients(\n",
        "    zip(model_update_gradients, model.trainable_variables)\n",
        "  )\n",
        "\n"
      ],
      "metadata": {
        "colab": {
          "base_uri": "https://localhost:8080/"
        },
        "id": "eYsREfd_-LNr",
        "outputId": "1febd7b4-b53f-439f-9d8d-e18f520b9c31"
      },
      "execution_count": null,
      "outputs": [
        {
          "output_type": "stream",
          "name": "stdout",
          "text": [
            "Epoch: 0\t MSE Loss = 1.0044512748718262\n",
            "Epoch: 1000\t MSE Loss = 0.022879835218191147\n",
            "Epoch: 2000\t MSE Loss = 0.0030162064358592033\n",
            "Epoch: 3000\t MSE Loss = 0.0006103964988142252\n",
            "Epoch: 4000\t MSE Loss = 0.00026747395168058574\n",
            "Epoch: 5000\t MSE Loss = 0.00016321982548106462\n"
          ]
        }
      ]
    },
    {
      "cell_type": "markdown",
      "source": [
        "Evaluating our model. For the evaluation part, we will create a random uniform points inside the domain $[0, 2]$ and test our model."
      ],
      "metadata": {
        "id": "lQ_cc2uzOIzk"
      }
    },
    {
      "cell_type": "code",
      "source": [
        "import numpy as np\n",
        "import matplotlib.pyplot as plt\n",
        "\n",
        "x_test = np.linspace(0, 2, 100)\n",
        "y_true = np.exp(x_test)\n",
        "y_pred = model(x_test)\n",
        "\n",
        "plt.plot(y_true)\n",
        "plt.plot(y_pred)\n",
        "plt.title('Evaluation')\n",
        "plt.legend(['Real', 'Predicted'])\n",
        "plt.show()"
      ],
      "metadata": {
        "colab": {
          "base_uri": "https://localhost:8080/",
          "height": 281
        },
        "id": "Jla_fNouNn_I",
        "outputId": "956d8dd5-bc69-4d0f-a29b-d467b3b54115"
      },
      "execution_count": null,
      "outputs": [
        {
          "output_type": "display_data",
          "data": {
            "text/plain": [
              "<Figure size 432x288 with 1 Axes>"
            ],
            "image/png": "[encoded data removed]"
          },
          "metadata": {
            "needs_background": "light"
          }
        }
      ]
    }
  ]
}